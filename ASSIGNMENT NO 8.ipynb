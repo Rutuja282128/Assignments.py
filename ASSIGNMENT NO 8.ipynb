{
 "cells": [
  {
   "cell_type": "code",
   "execution_count": null,
   "id": "b8888f7e",
   "metadata": {},
   "outputs": [],
   "source": [
    "1. Is the Python Standard Library included with PyInputPlus?\n",
    "ANS :- PyInputPlus is not a part of the Python Standard Library, so you must install it separately using Pip"
   ]
  },
  {
   "cell_type": "code",
   "execution_count": null,
   "id": "db277f89",
   "metadata": {},
   "outputs": [],
   "source": [
    "!pip install pyinputplus\n",
    "Collecting pyinputplus\n",
    "  Using cached PyInputPlus-0.2.12.tar.gz (20 kB)\n",
    "  Installing build dependencies ... done\n",
    "  Getting requirements to build wheel ... done\n",
    "  Preparing metadata (pyproject.toml) ... done\n",
    "Collecting pysimplevalidate>=0.2.7\n",
    "  Downloading PySimpleValidate-0.2.12.tar.gz (22 kB)\n",
    "  Installing build dependencies ... done\n",
    "  Getting requirements to build wheel ... done\n",
    "  Preparing metadata (pyproject.toml) ... done\n",
    "Collecting stdiomask>=0.0.3\n",
    "  Using cached stdiomask-0.0.6.tar.gz (3.6 kB)\n",
    "  Installing build dependencies ... done\n",
    "  Getting requirements to build wheel ... done\n",
    "  Preparing metadata (pyproject.toml) ... done\n",
    "Building wheels for collected packages: pyinputplus, pysimplevalidate, stdiomask\n",
    "  Building wheel for pyinputplus (pyproject.toml) ... done\n",
    "  Created wheel for pyinputplus: filename=PyInputPlus-0.2.12-py3-none-any.whl size=11297 sha256=b59ae85f45100b8c7ae133e2e73cfbe0092f20410aaa4761434a233a07f63731\n",
    "  Stored in directory: c:\\users\\rutuja\\appdata\\local\\pip\\cache\\wheels\\b9\\b4\\e7\\825446929f44b25d05f4df52bc4f7d211e5dec4c547126a098\n",
    "  Building wheel for pysimplevalidate (pyproject.toml) ... done\n",
    "  Created wheel for pysimplevalidate: filename=PySimpleValidate-0.2.12-py3-none-any.whl size=16175 sha256=996e7bf4fa8c4d4ce89e41072a5329ed3959cbc4fc95685c8cdbbf7ed\n",
    "fb5e3ec\n",
    "  Stored in directory: c:\\users\\rutuja\\appdata\\local\\pip\\cache\\wheels\\bd\\d4\\a5\\a003719238ab12962e430310093e567ab7d29bc3bfe062b14c\n",
    "  Building wheel for stdiomask (pyproject.toml) ... done\n",
    "  Created wheel for stdiomask: filename=stdiomask-0.0.6-py3-none-any.whl size=3306 sha256=4e8b7f91cd72df65c46901f8488618f2a8fd3879b396edeaff41931ae58ec6c6\n",
    "  Stored in directory: c:\\users\\rutuja\\appdata\\local\\pip\\cache\\wheels\\c1\\e9\\4e\\bcdfc282cffe91bb88e951ad9a05fb166ed6460bbe3c6dc02b\n",
    "Successfully built pyinputplus pysimplevalidate stdiomask\n",
    "Installing collected packages: stdiomask, pysimplevalidate, pyinputplus\n",
    "Successfully installed pyinputplus-0.2.12 pysimplevalidate-0.2.12 stdiomask-0.0.6\n"
   ]
  },
  {
   "cell_type": "code",
   "execution_count": null,
   "id": "6b602a88",
   "metadata": {},
   "outputs": [],
   "source": [
    "Q. Why is PyInputPlus commonly imported with import pyinputplus as pypi?\n",
    "ANS :- pypi is alias of PyInputPlus. The as pyip code in the import statement saves us from typing pyinputplus each time we want to call a PyInputPlus function. Instead we can use the shorter pyip name"
   ]
  },
  {
   "cell_type": "code",
   "execution_count": null,
   "id": "4e9d0c7b",
   "metadata": {},
   "outputs": [],
   "source": [
    "Q. How do you distinguish between inputInt() and inputFloat()?\n",
    "ANS :-  inputInt() : Accepts an integer value, and returns int value\n",
    "        inputFloat() : Accepts integer/floating point value and returns float value"
   ]
  },
  {
   "cell_type": "code",
   "execution_count": null,
   "id": "aae6915a",
   "metadata": {},
   "outputs": [],
   "source": [
    "Q. Using PyInputPlus, how do you ensure that the user enters a whole number between 0 and 99?\n",
    "ANS :-In the inputint function we can set the min = 0 and max =99 to ensure user enters number between 0 and 99"
   ]
  },
  {
   "cell_type": "code",
   "execution_count": null,
   "id": "ad8be1de",
   "metadata": {},
   "outputs": [],
   "source": [
    "pyip.inputInt(min = 0, max =99)\n",
    "OUTPUT :-777\n",
    "         Number must be at maximum 99.\n",
    "         66\n",
    "        66  "
   ]
  },
  {
   "cell_type": "markdown",
   "id": "bcb4e572",
   "metadata": {},
   "source": [
    "Q. What is transferred to the keyword arguments allowRegexes and blockRegexes?\n",
    "ANS :- We can also use regular expressions to specify whether an input is allowed or not. The allowRegexes and blockRegexes            keyword arguments take a list of regular expression strings to determine what the PyInputPlus function will accept or          reject as valid input."
   ]
  },
  {
   "cell_type": "code",
   "execution_count": null,
   "id": "0cc680d0",
   "metadata": {},
   "outputs": [],
   "source": [
    "response = pyip.inputNum(allowRegexes=[r'(I|V|X|L|C|D|M)+', r'zero'])\n",
    "O/P :- X"
   ]
  },
  {
   "cell_type": "code",
   "execution_count": null,
   "id": "d1935d06",
   "metadata": {},
   "outputs": [],
   "source": [
    "response = pyip.inputNum(blockRegexes=[r'[02468]$'])\n",
    "O/P \n",
    "2\n",
    "This response is invalid.\n",
    "4\n",
    "This response is invalid.\n",
    "6\n",
    "This response is invalid.\n",
    "45"
   ]
  },
  {
   "cell_type": "code",
   "execution_count": null,
   "id": "30bc2c9b",
   "metadata": {},
   "outputs": [],
   "source": [
    "Q. If a blank input is entered three times, what does inputStr(limit=3) do?\n",
    "ANS :- response = pyip.inputStr(limit=3)\n",
    "O/P :-Blank values are not allowed.\n",
    "\n",
    "      Blank values are not allowed.\n",
    "\n",
    "    Blank values are not allowed."
   ]
  },
  {
   "cell_type": "code",
   "execution_count": null,
   "id": "6bb8d81d",
   "metadata": {},
   "outputs": [],
   "source": [
    "Q. If blank input is entered three times, what does inputStr(limit=3, default='hello') do?\n",
    "ANS : - When you use limit keyword arguments and also pass a default keyword argument, the function returns the default value instead of raising an exception"
   ]
  },
  {
   "cell_type": "code",
   "execution_count": null,
   "id": "fd3f100b",
   "metadata": {},
   "outputs": [],
   "source": [
    "I :-response = pyip.inputStr(limit=3,default='hello')\n",
    "    response\n",
    "    \n",
    "O/P :- Blank values are not allowed.\n",
    "\n",
    "Blank values are not allowed.\n",
    "\n",
    "Blank values are not allowed.\n",
    "'hello'"
   ]
  }
 ],
 "metadata": {
  "kernelspec": {
   "display_name": "Python 3 (ipykernel)",
   "language": "python",
   "name": "python3"
  },
  "language_info": {
   "codemirror_mode": {
    "name": "ipython",
    "version": 3
   },
   "file_extension": ".py",
   "mimetype": "text/x-python",
   "name": "python",
   "nbconvert_exporter": "python",
   "pygments_lexer": "ipython3",
   "version": "3.9.7"
  }
 },
 "nbformat": 4,
 "nbformat_minor": 5
}
