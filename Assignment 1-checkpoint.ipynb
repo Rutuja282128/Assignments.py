{
 "cells": [
  {
   "cell_type": "code",
   "execution_count": null,
   "id": "b05dbc32",
   "metadata": {},
   "outputs": [],
   "source": [
    "1. In the below elements which of them are values or an expression? eg:- values can be\n",
    "integer or string and expressions will be mathematical operators.\n",
    "\n",
    "ANS:-\n",
    "    \n",
    "*--------- expressions\n",
    "'hello'--- values\n",
    "-87.8----- values\n",
    "---------- expressions\n",
    "/--------- expressions\n",
    "+--------- expressions\n",
    "6--------- values"
   ]
  },
  {
   "cell_type": "code",
   "execution_count": null,
   "id": "41a630b9",
   "metadata": {},
   "outputs": [],
   "source": [
    "2. What is the difference between string and variable?\n",
    "ANS:-\n",
    "    String:- String is a type of information you would store in a Variable. A String is usually words, enclosed with \"\"\n",
    "    VAriable :- variable is any alphabet or gropu of alphabet which work as temporary storage locations , a variable is used to represent any value\n",
    "       "
   ]
  },
  {
   "cell_type": "code",
   "execution_count": null,
   "id": "968233cd",
   "metadata": {},
   "outputs": [],
   "source": [
    "3. Describe three different data types.\n",
    "ANS:- Integer :- It is numeric data type which use for store number value whitout fractional component\n",
    "      Char :- Char is  Store Single letter, digit, punctuation mark, symbol, or blank space. \n",
    "      Float:-It is a numeric data type used to store numbers that may have a fractional component \n",
    "        "
   ]
  },
  {
   "cell_type": "code",
   "execution_count": null,
   "id": "867616ec",
   "metadata": {},
   "outputs": [],
   "source": [
    "4. What is an expression made up of? What do all expressions do?\n",
    "ANS:- An expression is a combination of operators and operands that is interpreted to produce some other value.\n",
    "      Expressions represent something, like a number, a string, or an instance of a class. Any value is an expression\n",
    "     "
   ]
  },
  {
   "cell_type": "code",
   "execution_count": null,
   "id": "fe7357db",
   "metadata": {},
   "outputs": [],
   "source": [
    "5. This assignment statements, like spam = 10. What is the difference between an\n",
    "   expression and a statement?\n",
    "ANS:- Expression is made up of values, containers, and mathematical operators (operands) and the statement is just like a command that a python interpreter executes like print.\n"
   ]
  },
  {
   "cell_type": "code",
   "execution_count": null,
   "id": "eab6ab05",
   "metadata": {},
   "outputs": [],
   "source": [
    "6. After running the following code, what does the variable bacon contain?\n",
    "bacon = 22\n",
    "bacon + 1    \n",
    "\n",
    "ANS:- Output Will be 23."
   ]
  },
  {
   "cell_type": "code",
   "execution_count": null,
   "id": "41f9562b",
   "metadata": {},
   "outputs": [],
   "source": [
    "7. What should the values of the following two terms be?\n",
    "'spam' + 'spamspam'\n",
    "'spam' * 3\n",
    "    \n",
    "ANS:- 1) Output Will BW spamspamspam\n",
    "      2) Output Will BW spamspamspam\n",
    "        "
   ]
  },
  {
   "cell_type": "code",
   "execution_count": null,
   "id": "34f7b88e",
   "metadata": {},
   "outputs": [],
   "source": [
    "8. Why is eggs a valid variable name while 100 is invalid?\n",
    "ANS:- because we can not start giving variable an integer name. if we, we should begin with, a string-like alphabet name then integer. e100 or eggs100 is valid\n",
    "   "
   ]
  }
 ],
 "metadata": {
  "kernelspec": {
   "display_name": "Python 3 (ipykernel)",
   "language": "python",
   "name": "python3"
  },
  "language_info": {
   "codemirror_mode": {
    "name": "ipython",
    "version": 3
   },
   "file_extension": ".py",
   "mimetype": "text/x-python",
   "name": "python",
   "nbconvert_exporter": "python",
   "pygments_lexer": "ipython3",
   "version": "3.9.7"
  }
 },
 "nbformat": 4,
 "nbformat_minor": 5
}
