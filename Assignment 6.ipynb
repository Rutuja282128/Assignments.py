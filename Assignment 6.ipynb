{
 "cells": [
  {
   "cell_type": "code",
   "execution_count": null,
   "id": "5954c4a9",
   "metadata": {},
   "outputs": [],
   "source": [
    "1. What are escape characters, and how do you use them?\n",
    "ANS:- \n",
    "    Escape characters represent characters in string values that would otherwise be difficult or impossible to type into code. we can use the backslash character to escape a single character or symbol\n",
    "    example: \\t, \\n"
   ]
  },
  {
   "cell_type": "code",
   "execution_count": null,
   "id": "f20f956e",
   "metadata": {},
   "outputs": [],
   "source": [
    "2. What do the escape characters n and t stand for?\n",
    "ANS:- \n",
    "    \\n is a newline, \\t is a tab"
   ]
  },
  {
   "cell_type": "code",
   "execution_count": null,
   "id": "d90ff649",
   "metadata": {},
   "outputs": [],
   "source": [
    "3. What is the way to include backslash characters in a string?\n",
    "ANS:- \n",
    "        The \\\\ escape character will represent the backslash character in a string"
   ]
  },
  {
   "cell_type": "code",
   "execution_count": null,
   "id": "13d1bd90",
   "metadata": {},
   "outputs": [],
   "source": [
    "4. The string Howl's Moving Castle is a correct value. Why is't the single quote character in the word Howl's not escaped \n",
    "    a problem?\n",
    "ANS:- The string \"Howl's Moving Castle\" escaped the problem because it is wrapped inside double quotes. if its wrapped inside \n",
    "      single quotes then we have to use escape character \\' to show single quote in the final output\n",
    "      'Howl\\'s Moving Castle' -> 'Howl's Moving Castle'\n",
    "    "
   ]
  },
  {
   "cell_type": "code",
   "execution_count": null,
   "id": "d0546b1a",
   "metadata": {},
   "outputs": [],
   "source": [
    "5. How do you write a string of newlines if you don't want to use the n character?\n",
    "ANS:- \n",
    "    Multiline string allow you to use newlines in string without the \\n escape character\n",
    "    # Example:\n",
    "a = '''iNeuron full stack\n",
    "       Data Science Course'''\n",
    "print(a)\n",
    "\n",
    "OUTPUT:- \n",
    "        iNeuron full stack\n",
    "        Data Science Course"
   ]
  },
  {
   "cell_type": "code",
   "execution_count": null,
   "id": "b27d5f72",
   "metadata": {},
   "outputs": [],
   "source": [
    "6. What are the values of the given expressions?\n",
    "'Hello, world!'[1]\n",
    "'Hello, world!'[0:5]\n",
    "'Hello, world!'[:5]\n",
    "'Hello, world!'[3:]\n",
    "\n",
    "ANS:- The values for the given expressions are:\n",
    "    'Hello, world!'[1] -> 'e'\n",
    "    'Hello, world!'[0:5] -> 'Hello'\n",
    "    'Hello, world!'[:5] -> 'Hello'\n",
    "    'Hello, world!'[3:] -> 'lo, world!'"
   ]
  },
  {
   "cell_type": "code",
   "execution_count": null,
   "id": "b37eb21d",
   "metadata": {},
   "outputs": [],
   "source": [
    "7.What are the values of the following expressions ?\n",
    "    'Hello'.upper()\n",
    "    'Hello'.upper().isupper()\n",
    "    'Hello'.upper().lower()\n",
    "\n",
    "ANS:- The values for the given expressions are:\n",
    "    'Hello'.upper() -> 'HELLO'\n",
    "    'Hello'.upper().isupper() -> True\n",
    "    'Hello'.upper().lower() -> 'hello'"
   ]
  },
  {
   "cell_type": "code",
   "execution_count": null,
   "id": "d06d9eee",
   "metadata": {},
   "outputs": [],
   "source": [
    "8.What are the values of the following expressions ?\n",
    "    'Remember, remember, the fifith of July.'.split()\n",
    "    '-'.join('There can only one'.split())\n",
    "\n",
    "ANS:- The values for the given expressions are:\n",
    "    'Remember, remember, the fifith of July.'.split() -> ['Remember,', 'remember,', 'the', 'fifith', 'of', 'July.']\n",
    "    '-'.join('There can only one'.split()) -> 'There-can-only-one'"
   ]
  },
  {
   "cell_type": "code",
   "execution_count": null,
   "id": "a3aa0cd4",
   "metadata": {},
   "outputs": [],
   "source": [
    "9. What are the methods for right-justifying, left-justifying, and centering a string?\n",
    "ANS:- \n",
    "    The rjust(),ljust(),center() string methods, respectively"
   ]
  },
  {
   "cell_type": "code",
   "execution_count": null,
   "id": "6a14d51f",
   "metadata": {},
   "outputs": [],
   "source": [
    "10.What is the best way to remove whitespace characters from the start or end ?\n",
    "ANS:- The lstrip() and rstrip() methods remove whitesapce characters from the left and right ends of a string respectively"
   ]
  },
  {
   "cell_type": "code",
   "execution_count": null,
   "id": "a387ff4e",
   "metadata": {},
   "outputs": [],
   "source": []
  }
 ],
 "metadata": {
  "kernelspec": {
   "display_name": "Python 3 (ipykernel)",
   "language": "python",
   "name": "python3"
  },
  "language_info": {
   "codemirror_mode": {
    "name": "ipython",
    "version": 3
   },
   "file_extension": ".py",
   "mimetype": "text/x-python",
   "name": "python",
   "nbconvert_exporter": "python",
   "pygments_lexer": "ipython3",
   "version": "3.9.12"
  }
 },
 "nbformat": 4,
 "nbformat_minor": 5
}
